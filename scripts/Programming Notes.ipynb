{
 "cells": [
  {
   "cell_type": "markdown",
   "id": "5573b7e6",
   "metadata": {},
   "source": [
    "# Possible Caching Technique From Data - Streamlit"
   ]
  },
  {
   "cell_type": "markdown",
   "id": "dc93e939",
   "metadata": {},
   "source": [
    "What happens in Streamlit\n",
    "\n",
    "1. Streamlit re-runs your script top-to-bottom on every interaction (select box change, button click, etc.).\n",
    "\n",
    "2. To avoid re-downloading data on every rerun, you use caching.\n",
    "\n",
    "3. When the user really wants fresh data, you bust the cache (manually or with a time-to-live)."
   ]
  },
  {
   "cell_type": "markdown",
   "id": "13bf4ae7",
   "metadata": {},
   "source": [
    "Use three pure functions in a module (data.py), then one small wrapper that Streamlit caches."
   ]
  },
  {
   "cell_type": "code",
   "execution_count": null,
   "id": "79917931",
   "metadata": {},
   "outputs": [],
   "source": [
    "# preprocess.py (functional, pure)\n",
    "import pandas as pd\n",
    "import yfinance as yf\n",
    "\n",
    "def fetch_prices(tickers, start, end):\n",
    "    raw = yf.download(tickers, start=start, end=end, auto_adjust=False, group_by=\"ticker\")\n",
    "    raw.index = pd.to_datetime(raw.index)\n",
    "    return raw.sort_index()\n",
    "\n",
    "def to_long_with_sector(raw, sectors):\n",
    "    fields = [\"Open\", \"High\", \"Low\", \"Close\", \"Volume\"]\n",
    "    rows = []\n",
    "    for sector, tkr_list in sectors.items():\n",
    "        for tkr in tkr_list:\n",
    "            if tkr not in raw.columns.get_level_values(0): \n",
    "                continue\n",
    "            df = raw[tkr].copy()\n",
    "            df[\"Ticker\"] = tkr\n",
    "            df[\"Sector\"] = sector\n",
    "            df[\"Date\"] = df.index\n",
    "            rows.append(df[[\"Date\",\"Ticker\",\"Sector\"] + fields].reset_index(drop=True))\n",
    "    long_df = pd.concat(rows, ignore_index=True).sort_values([\"Ticker\",\"Date\"]).reset_index(drop=True)\n",
    "    # (light clean: ffill/interp if you need)\n",
    "    return long_df\n",
    "\n",
    "def to_wide(long_df, field):\n",
    "    w = long_df.pivot(index=\"Date\", columns=\"Ticker\", values=field).sort_index().ffill()\n",
    "    return w\n"
   ]
  },
  {
   "cell_type": "markdown",
   "id": "85dc6151",
   "metadata": {},
   "source": [
    "Use st.cache_data to cache the result of your pure function(s). Add a TTL (e.g., 1 hour) and a manual refresh button to bust the cache on demand."
   ]
  },
  {
   "cell_type": "code",
   "execution_count": null,
   "id": "d26fb0c6",
   "metadata": {},
   "outputs": [],
   "source": [
    "# app.py\n",
    "import time\n",
    "import pandas as pd\n",
    "import streamlit as st\n",
    "from datetime import date, timedelta\n",
    "from preprocess import fetch_prices, to_long_with_sector, to_wide\n",
    "\n",
    "SECTORS = {\n",
    "    \"Tech\": [\"AAPL\",\"MSFT\",\"NVDA\"],\n",
    "    \"Finance\": [\"JPM\",\"BAC\",\"MA\"],\n",
    "    \"Healthcare\": [\"JNJ\",\"PFE\",\"ABBV\"],\n",
    "    \"Consumer Goods\": [\"PEP\",\"MCD\",\"NKE\"],\n",
    "    \"Energy\": [\"XOM\",\"SHEL\",\"CVX\"],\n",
    "}\n",
    "\n",
    "# ---- 1) Cached loader ----\n",
    "@st.cache_data(ttl=3600)  # cache for 1 hour\n",
    "def load_data(tickers, start, end, sectors, _nonce=None):\n",
    "    \"\"\"Fetch + transform. _nonce is used only to force refresh when needed.\"\"\"\n",
    "    raw = fetch_prices(tickers, start, end)\n",
    "    long_df = to_long_with_sector(raw, sectors)\n",
    "    close_df = to_wide(long_df, \"Close\")\n",
    "    return long_df, close_df\n",
    "\n",
    "# ---- 2) UI controls ----\n",
    "st.title(\"Stalking Stocks (demo)\")\n",
    "all_tickers = sum(SECTORS.values(), [])\n",
    "default_start = date.today() - timedelta(days=365*3)\n",
    "start = st.date_input(\"Start date\", value=default_start)\n",
    "end   = st.date_input(\"End date\", value=date.today())\n",
    "selected_sector = st.selectbox(\"Sector\", list(SECTORS.keys()))\n",
    "selected_ticker = st.selectbox(\"Ticker\", SECTORS[selected_sector])\n",
    "\n",
    "col1, col2 = st.columns(2)\n",
    "with col1:\n",
    "    do_refresh = st.button(\"🔄 Refresh data now\")\n",
    "with col2:\n",
    "    st.caption(\"Data auto-refreshes every hour (TTL).\")\n",
    "\n",
    "# ---- 3) Force-refresh mechanism ----\n",
    "# When pressed, pass a changing _nonce to cache key so it refetches\n",
    "nonce = time.time() if do_refresh else None\n",
    "\n",
    "# ---- 4) Load data (cached unless refresh) ----\n",
    "with st.spinner(\"Loading data...\"):\n",
    "    long_df, close_df = load_data(all_tickers, start, end, SECTORS, _nonce=nonce)\n",
    "\n",
    "# ---- 5) Use data\n",
    "st.line_chart(close_df[[selected_ticker]])\n",
    "st.dataframe(long_df[long_df[\"Ticker\"] == selected_ticker].tail(10))\n"
   ]
  },
  {
   "cell_type": "markdown",
   "id": "74ffff23",
   "metadata": {},
   "source": [
    "# Simple way to call yFinance and add Sectors for own analyis/exploration"
   ]
  },
  {
   "cell_type": "code",
   "execution_count": 5,
   "id": "ca060801",
   "metadata": {},
   "outputs": [
    {
     "name": "stderr",
     "output_type": "stream",
     "text": [
      "C:\\Users\\muham\\AppData\\Local\\Temp\\ipykernel_37756\\3061664545.py:19: FutureWarning: YF.download() has changed argument auto_adjust default to True\n",
      "  df = yf.download(tickers, start=start_date, end=end_date, group_by='ticker', progress=False)\n"
     ]
    },
    {
     "data": {
      "text/html": [
       "<div>\n",
       "<style scoped>\n",
       "    .dataframe tbody tr th:only-of-type {\n",
       "        vertical-align: middle;\n",
       "    }\n",
       "\n",
       "    .dataframe tbody tr th {\n",
       "        vertical-align: top;\n",
       "    }\n",
       "\n",
       "    .dataframe thead th {\n",
       "        text-align: right;\n",
       "    }\n",
       "</style>\n",
       "<table border=\"1\" class=\"dataframe\">\n",
       "  <thead>\n",
       "    <tr style=\"text-align: right;\">\n",
       "      <th>Price</th>\n",
       "      <th>Date</th>\n",
       "      <th>Open</th>\n",
       "      <th>High</th>\n",
       "      <th>Low</th>\n",
       "      <th>Close</th>\n",
       "      <th>Volume</th>\n",
       "      <th>Ticker</th>\n",
       "      <th>Sector</th>\n",
       "    </tr>\n",
       "  </thead>\n",
       "  <tbody>\n",
       "    <tr>\n",
       "      <th>0</th>\n",
       "      <td>2023-01-03</td>\n",
       "      <td>128.468178</td>\n",
       "      <td>129.079551</td>\n",
       "      <td>122.443150</td>\n",
       "      <td>123.330635</td>\n",
       "      <td>112117500</td>\n",
       "      <td>AAPL</td>\n",
       "      <td>Technology</td>\n",
       "    </tr>\n",
       "    <tr>\n",
       "      <th>1</th>\n",
       "      <td>2023-01-04</td>\n",
       "      <td>125.125335</td>\n",
       "      <td>126.870724</td>\n",
       "      <td>123.340509</td>\n",
       "      <td>124.602707</td>\n",
       "      <td>89113600</td>\n",
       "      <td>AAPL</td>\n",
       "      <td>Technology</td>\n",
       "    </tr>\n",
       "    <tr>\n",
       "      <th>2</th>\n",
       "      <td>2023-01-05</td>\n",
       "      <td>125.361983</td>\n",
       "      <td>125.993082</td>\n",
       "      <td>123.024948</td>\n",
       "      <td>123.281326</td>\n",
       "      <td>80962700</td>\n",
       "      <td>AAPL</td>\n",
       "      <td>Technology</td>\n",
       "    </tr>\n",
       "    <tr>\n",
       "      <th>3</th>\n",
       "      <td>2023-01-06</td>\n",
       "      <td>124.257586</td>\n",
       "      <td>128.478056</td>\n",
       "      <td>123.153159</td>\n",
       "      <td>127.817375</td>\n",
       "      <td>87754700</td>\n",
       "      <td>AAPL</td>\n",
       "      <td>Technology</td>\n",
       "    </tr>\n",
       "    <tr>\n",
       "      <th>4</th>\n",
       "      <td>2023-01-09</td>\n",
       "      <td>128.655523</td>\n",
       "      <td>131.554638</td>\n",
       "      <td>128.083587</td>\n",
       "      <td>128.339966</td>\n",
       "      <td>70790800</td>\n",
       "      <td>AAPL</td>\n",
       "      <td>Technology</td>\n",
       "    </tr>\n",
       "  </tbody>\n",
       "</table>\n",
       "</div>"
      ],
      "text/plain": [
       "Price       Date        Open        High         Low       Close     Volume  \\\n",
       "0     2023-01-03  128.468178  129.079551  122.443150  123.330635  112117500   \n",
       "1     2023-01-04  125.125335  126.870724  123.340509  124.602707   89113600   \n",
       "2     2023-01-05  125.361983  125.993082  123.024948  123.281326   80962700   \n",
       "3     2023-01-06  124.257586  128.478056  123.153159  127.817375   87754700   \n",
       "4     2023-01-09  128.655523  131.554638  128.083587  128.339966   70790800   \n",
       "\n",
       "Price Ticker      Sector  \n",
       "0       AAPL  Technology  \n",
       "1       AAPL  Technology  \n",
       "2       AAPL  Technology  \n",
       "3       AAPL  Technology  \n",
       "4       AAPL  Technology  "
      ]
     },
     "execution_count": 5,
     "metadata": {},
     "output_type": "execute_result"
    }
   ],
   "source": [
    "# Yahoo Finance API to pull the data\n",
    "import yfinance as yf\n",
    "# Pandas and Numpy for data maniupulation \n",
    "import pandas as pd\n",
    "import numpy as np\n",
    "\n",
    "# Example tickers (one per sector)\n",
    "tickers = ['AAPL', 'JPM', 'PFE', 'PG', 'XOM']\n",
    "sectors = {\n",
    "    'AAPL': 'Technology',\n",
    "    'JPM': 'Finance',\n",
    "    'PFE': 'Healthcare',\n",
    "    'PG': 'Consumer Goods',\n",
    "    'XOM': 'Energy'\n",
    "}\n",
    "\n",
    "# Function to fetch and flatten stock data\n",
    "def fetch_stock_data(tickers, start_date='2023-01-01', end_date='2025-01-01'):\n",
    "    df = yf.download(tickers, start=start_date, end=end_date, group_by='ticker', progress=False)\n",
    "    flat_data = []\n",
    "    for ticker in tickers:\n",
    "        temp = df[ticker].reset_index()\n",
    "        temp['Ticker'] = ticker\n",
    "        temp['Sector'] = sectors[ticker]  # Add sector info\n",
    "        flat_data.append(temp)\n",
    "    combined_df = pd.concat(flat_data, ignore_index=True)\n",
    "    return combined_df\n",
    "\n",
    "# Fetch data\n",
    "df = fetch_stock_data(tickers)\n",
    "df.head()\n"
   ]
  },
  {
   "cell_type": "code",
   "execution_count": 6,
   "id": "3bfc4538",
   "metadata": {},
   "outputs": [
    {
     "name": "stdout",
     "output_type": "stream",
     "text": [
      "Index(['Date', 'Open', 'High', 'Low', 'Close', 'Volume', 'Ticker', 'Sector'], dtype='object', name='Price')\n"
     ]
    }
   ],
   "source": [
    "print(df.columns)"
   ]
  },
  {
   "cell_type": "markdown",
   "id": "e1af453a",
   "metadata": {},
   "source": [
    "# Next note"
   ]
  },
  {
   "cell_type": "markdown",
   "id": "e72b8212",
   "metadata": {},
   "source": [
    "# Next note"
   ]
  },
  {
   "cell_type": "markdown",
   "id": "30597e74",
   "metadata": {},
   "source": []
  },
  {
   "cell_type": "markdown",
   "id": "07adfe8c",
   "metadata": {},
   "source": []
  },
  {
   "cell_type": "markdown",
   "id": "aa088e43",
   "metadata": {},
   "source": []
  },
  {
   "cell_type": "markdown",
   "id": "903eadb3",
   "metadata": {},
   "source": []
  }
 ],
 "metadata": {
  "kernelspec": {
   "display_name": "Python 3",
   "language": "python",
   "name": "python3"
  },
  "language_info": {
   "codemirror_mode": {
    "name": "ipython",
    "version": 3
   },
   "file_extension": ".py",
   "mimetype": "text/x-python",
   "name": "python",
   "nbconvert_exporter": "python",
   "pygments_lexer": "ipython3",
   "version": "3.10.2"
  }
 },
 "nbformat": 4,
 "nbformat_minor": 5
}
